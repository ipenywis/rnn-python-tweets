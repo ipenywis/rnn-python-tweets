{
 "cells": [
  {
   "cell_type": "code",
   "execution_count": 2,
   "metadata": {},
   "outputs": [
    {
     "name": "stderr",
     "output_type": "stream",
     "text": [
      "Matplotlib is building the font cache; this may take a moment.\n"
     ]
    }
   ],
   "source": [
    "__author__ = \"Islem Maboud\"\n",
    "__aka__ = \"CoderOne\"\n",
    "__github__ = \"https://github.com/ipenywis\"\n",
    "__link__ = \"https://www.youtube.com/c/coderone\"\n",
    "__license__ = \"MIT\"\n",
    "__version__ = \"1.0.0\"\n",
    "__maintainer__ = \"Islem Maboud\"\n",
    "__email__ = \"islempenywis@gmail.com\"\n",
    "\n",
    "\n",
    "import numpy as np\n",
    "\n",
    "import pandas as pd\n",
    "\n",
    "#This will be used to use GoogleNews vectors\n",
    "from gensim import models\n",
    "\n",
    "from keras.models import Sequential\n",
    "\n",
    "from keras.layers import Dense, Embedding, LSTM, SpatialDropout1D, Dropout, Reshape, Flatten, concatenate, Input\n",
    "\n",
    "from keras.models import Model\n",
    "\n",
    "from sklearn.model_selection import train_test_split\n",
    "\n",
    "from sklearn.feature_extraction.text import CountVectorizer\n",
    "\n",
    "from keras.preprocessing.text import Tokenizer\n",
    "\n",
    "from keras.preprocessing.sequence import pad_sequences\n",
    "\n",
    "from keras.utils.np_utils import to_categorical\n",
    "\n",
    "from matplotlib import pyplot\n",
    "\n",
    "import re\n",
    "\n",
    "from os.path import isfile, join\n",
    "\n",
    "import collections\n",
    "import re\n",
    "import string\n",
    "import os\n",
    "import nltk"
   ]
  },
  {
   "cell_type": "markdown",
   "metadata": {},
   "source": [
    "## Download Required Packages and Modes"
   ]
  },
  {
   "cell_type": "code",
   "execution_count": 17,
   "metadata": {},
   "outputs": [],
   "source": [
    "## Downloading Required Packages and Models\n",
    "#GOOGLE_NEWS_PATH = \"./googleNews-word2vec\"\n",
    "GOOGLE_NEW_BIN_PATH = \"./GoogleNews-vectors-negative300.bin\"\n",
    "\n",
    "#Github file is corrupted!\n",
    "#!git clone \"git@github.com:mmihaltz/word2vec-GoogleNews-vectors.git\" $GOOGLE_NEWS_PATH\n",
    "\n",
    "!wget -P $GOOGLE_NEW_BIN_PATH -c -nc \"https://s3.amazonaws.com/dl4j-distribution/GoogleNews-vectors-negative300.bin.gz\""
   ]
  },
  {
   "cell_type": "markdown",
   "metadata": {},
   "source": [
    "## Downloading Required Nltk processing packages"
   ]
  },
  {
   "cell_type": "code",
   "execution_count": 3,
   "metadata": {},
   "outputs": [
    {
     "name": "stderr",
     "output_type": "stream",
     "text": [
      "[nltk_data] Downloading package punkt to\n",
      "[nltk_data]     /home/islempenywis/nltk_data...\n",
      "[nltk_data]   Package punkt is already up-to-date!\n",
      "[nltk_data] Downloading package stopwords to\n",
      "[nltk_data]     /home/islempenywis/nltk_data...\n",
      "[nltk_data]   Package stopwords is already up-to-date!\n"
     ]
    },
    {
     "data": {
      "text/plain": [
       "True"
      ]
     },
     "execution_count": 3,
     "metadata": {},
     "output_type": "execute_result"
    }
   ],
   "source": [
    "nltk.download('punkt')\n",
    "nltk.download(\"stopwords\")"
   ]
  },
  {
   "cell_type": "markdown",
   "metadata": {},
   "source": [
    "## Reading and Processing Data "
   ]
  },
  {
   "cell_type": "code",
   "execution_count": 4,
   "metadata": {},
   "outputs": [
    {
     "data": {
      "text/html": [
       "<div>\n",
       "<style scoped>\n",
       "    .dataframe tbody tr th:only-of-type {\n",
       "        vertical-align: middle;\n",
       "    }\n",
       "\n",
       "    .dataframe tbody tr th {\n",
       "        vertical-align: top;\n",
       "    }\n",
       "\n",
       "    .dataframe thead th {\n",
       "        text-align: right;\n",
       "    }\n",
       "</style>\n",
       "<table border=\"1\" class=\"dataframe\">\n",
       "  <thead>\n",
       "    <tr style=\"text-align: right;\">\n",
       "      <th></th>\n",
       "      <th>Text</th>\n",
       "      <th>Label</th>\n",
       "    </tr>\n",
       "  </thead>\n",
       "  <tbody>\n",
       "    <tr>\n",
       "      <th>0</th>\n",
       "      <td>بعد استقالة رئيس #المحكمة_الدستورية ننتظر استق...</td>\n",
       "      <td>OBJ</td>\n",
       "    </tr>\n",
       "    <tr>\n",
       "      <th>1</th>\n",
       "      <td>أهنئ الدكتور أحمد جمال الدين، القيادي بحزب مصر...</td>\n",
       "      <td>POS</td>\n",
       "    </tr>\n",
       "    <tr>\n",
       "      <th>2</th>\n",
       "      <td>البرادعي يستقوى بامريكا مرةاخرى و يرسل عصام ال...</td>\n",
       "      <td>NEG</td>\n",
       "    </tr>\n",
       "    <tr>\n",
       "      <th>3</th>\n",
       "      <td>#الحرية_والعدالة | شاهد الآن: #ليلة_الاتحادية ...</td>\n",
       "      <td>OBJ</td>\n",
       "    </tr>\n",
       "    <tr>\n",
       "      <th>4</th>\n",
       "      <td>الوالدة لو اقولها بخاطري حشيشة تضحك بس من اقول...</td>\n",
       "      <td>NEUTRAL</td>\n",
       "    </tr>\n",
       "  </tbody>\n",
       "</table>\n",
       "</div>"
      ],
      "text/plain": [
       "                                                Text    Label\n",
       "0  بعد استقالة رئيس #المحكمة_الدستورية ننتظر استق...      OBJ\n",
       "1  أهنئ الدكتور أحمد جمال الدين، القيادي بحزب مصر...      POS\n",
       "2  البرادعي يستقوى بامريكا مرةاخرى و يرسل عصام ال...      NEG\n",
       "3  #الحرية_والعدالة | شاهد الآن: #ليلة_الاتحادية ...      OBJ\n",
       "4  الوالدة لو اقولها بخاطري حشيشة تضحك بس من اقول...  NEUTRAL"
      ]
     },
     "execution_count": 4,
     "metadata": {},
     "output_type": "execute_result"
    }
   ],
   "source": [
    "# Reading tweets from text file\n",
    "datasetPath = './data/Tweets.txt'\n",
    "tweetsData = pd.read_csv(datasetPath, header = None, delimiter='\\t', encoding='utf-8-sig')\n",
    "tweetsData.columns = ['Text', 'Label']\n",
    "data = []\n",
    "\n",
    "tweetsData.head()"
   ]
  },
  {
   "cell_type": "markdown",
   "metadata": {},
   "source": [
    "## Adding labels as integers instead of strings"
   ]
  },
  {
   "cell_type": "code",
   "execution_count": 5,
   "metadata": {},
   "outputs": [
    {
     "data": {
      "text/plain": [
       "array(['OBJ', 'POS', 'NEG', 'NEUTRAL'], dtype=object)"
      ]
     },
     "execution_count": 5,
     "metadata": {},
     "output_type": "execute_result"
    }
   ],
   "source": [
    "tweetsData.Label.unique()\n"
   ]
  },
  {
   "cell_type": "code",
   "execution_count": 6,
   "metadata": {},
   "outputs": [
    {
     "data": {
      "text/plain": [
       "(9694, 2)"
      ]
     },
     "execution_count": 6,
     "metadata": {},
     "output_type": "execute_result"
    }
   ],
   "source": [
    "tweetsData.shape"
   ]
  },
  {
   "cell_type": "code",
   "execution_count": 8,
   "metadata": {},
   "outputs": [
    {
     "data": {
      "text/html": [
       "<div>\n",
       "<style scoped>\n",
       "    .dataframe tbody tr th:only-of-type {\n",
       "        vertical-align: middle;\n",
       "    }\n",
       "\n",
       "    .dataframe tbody tr th {\n",
       "        vertical-align: top;\n",
       "    }\n",
       "\n",
       "    .dataframe thead th {\n",
       "        text-align: right;\n",
       "    }\n",
       "</style>\n",
       "<table border=\"1\" class=\"dataframe\">\n",
       "  <thead>\n",
       "    <tr style=\"text-align: right;\">\n",
       "      <th></th>\n",
       "      <th>Text</th>\n",
       "      <th>Label</th>\n",
       "      <th>Pos</th>\n",
       "      <th>Neg</th>\n",
       "      <th>Obj</th>\n",
       "      <th>Neutral</th>\n",
       "    </tr>\n",
       "  </thead>\n",
       "  <tbody>\n",
       "    <tr>\n",
       "      <th>0</th>\n",
       "      <td>بعد استقالة رئيس #المحكمة_الدستورية ننتظر استق...</td>\n",
       "      <td>OBJ</td>\n",
       "      <td>0</td>\n",
       "      <td>0</td>\n",
       "      <td>1</td>\n",
       "      <td>0</td>\n",
       "    </tr>\n",
       "    <tr>\n",
       "      <th>1</th>\n",
       "      <td>أهنئ الدكتور أحمد جمال الدين، القيادي بحزب مصر...</td>\n",
       "      <td>POS</td>\n",
       "      <td>1</td>\n",
       "      <td>0</td>\n",
       "      <td>0</td>\n",
       "      <td>0</td>\n",
       "    </tr>\n",
       "    <tr>\n",
       "      <th>2</th>\n",
       "      <td>البرادعي يستقوى بامريكا مرةاخرى و يرسل عصام ال...</td>\n",
       "      <td>NEG</td>\n",
       "      <td>0</td>\n",
       "      <td>1</td>\n",
       "      <td>0</td>\n",
       "      <td>0</td>\n",
       "    </tr>\n",
       "    <tr>\n",
       "      <th>3</th>\n",
       "      <td>#الحرية_والعدالة | شاهد الآن: #ليلة_الاتحادية ...</td>\n",
       "      <td>OBJ</td>\n",
       "      <td>0</td>\n",
       "      <td>0</td>\n",
       "      <td>1</td>\n",
       "      <td>0</td>\n",
       "    </tr>\n",
       "    <tr>\n",
       "      <th>4</th>\n",
       "      <td>الوالدة لو اقولها بخاطري حشيشة تضحك بس من اقول...</td>\n",
       "      <td>NEUTRAL</td>\n",
       "      <td>0</td>\n",
       "      <td>0</td>\n",
       "      <td>0</td>\n",
       "      <td>1</td>\n",
       "    </tr>\n",
       "  </tbody>\n",
       "</table>\n",
       "</div>"
      ],
      "text/plain": [
       "                                                Text    Label  Pos  Neg  Obj  \\\n",
       "0  بعد استقالة رئيس #المحكمة_الدستورية ننتظر استق...      OBJ    0    0    1   \n",
       "1  أهنئ الدكتور أحمد جمال الدين، القيادي بحزب مصر...      POS    1    0    0   \n",
       "2  البرادعي يستقوى بامريكا مرةاخرى و يرسل عصام ال...      NEG    0    1    0   \n",
       "3  #الحرية_والعدالة | شاهد الآن: #ليلة_الاتحادية ...      OBJ    0    0    1   \n",
       "4  الوالدة لو اقولها بخاطري حشيشة تضحك بس من اقول...  NEUTRAL    0    0    0   \n",
       "\n",
       "   Neutral  \n",
       "0        0  \n",
       "1        0  \n",
       "2        0  \n",
       "3        0  \n",
       "4        1  "
      ]
     },
     "execution_count": 8,
     "metadata": {},
     "output_type": "execute_result"
    }
   ],
   "source": [
    "pos = []\n",
    "neg = []\n",
    "obj = []\n",
    "neutral = []\n",
    "for l in tweetsData.Label:\n",
    "    if l == 'OBJ':\n",
    "        neg.append(0)\n",
    "        pos.append(0)\n",
    "        neutral.append(0)\n",
    "        obj.append(1)\n",
    "    elif l == 'NEUTRAL':\n",
    "        neg.append(0)\n",
    "        pos.append(0)\n",
    "        neutral.append(1)\n",
    "        obj.append(0)\n",
    "    elif l == 'POS':\n",
    "        neg.append(0)\n",
    "        pos.append(1)\n",
    "        neutral.append(0)\n",
    "        obj.append(0)\n",
    "    elif l == \"NEG\":\n",
    "        neg.append(1)\n",
    "        pos.append(0)\n",
    "        neutral.append(0)\n",
    "        obj.append(0)\n",
    "\n",
    "tweetsData['Pos'] = pos\n",
    "tweetsData['Neg'] = neg\n",
    "tweetsData['Obj'] = obj\n",
    "tweetsData['Neutral'] = neutral\n",
    "\n",
    "tweetsData.head()"
   ]
  },
  {
   "cell_type": "markdown",
   "metadata": {},
   "source": [
    "## Cleaning Data"
   ]
  },
  {
   "cell_type": "code",
   "execution_count": 9,
   "metadata": {},
   "outputs": [
    {
     "data": {
      "text/html": [
       "<div>\n",
       "<style scoped>\n",
       "    .dataframe tbody tr th:only-of-type {\n",
       "        vertical-align: middle;\n",
       "    }\n",
       "\n",
       "    .dataframe tbody tr th {\n",
       "        vertical-align: top;\n",
       "    }\n",
       "\n",
       "    .dataframe thead th {\n",
       "        text-align: right;\n",
       "    }\n",
       "</style>\n",
       "<table border=\"1\" class=\"dataframe\">\n",
       "  <thead>\n",
       "    <tr style=\"text-align: right;\">\n",
       "      <th></th>\n",
       "      <th>Text</th>\n",
       "      <th>Label</th>\n",
       "      <th>Pos</th>\n",
       "      <th>Neg</th>\n",
       "      <th>Obj</th>\n",
       "      <th>Neutral</th>\n",
       "      <th>Text_Clean</th>\n",
       "    </tr>\n",
       "  </thead>\n",
       "  <tbody>\n",
       "    <tr>\n",
       "      <th>0</th>\n",
       "      <td>بعد استقالة رئيس #المحكمة_الدستورية ننتظر استق...</td>\n",
       "      <td>OBJ</td>\n",
       "      <td>0</td>\n",
       "      <td>0</td>\n",
       "      <td>1</td>\n",
       "      <td>0</td>\n",
       "      <td>بعد استقالة رئيس المحكمةالدستورية ننتظر استقال...</td>\n",
       "    </tr>\n",
       "    <tr>\n",
       "      <th>1</th>\n",
       "      <td>أهنئ الدكتور أحمد جمال الدين، القيادي بحزب مصر...</td>\n",
       "      <td>POS</td>\n",
       "      <td>1</td>\n",
       "      <td>0</td>\n",
       "      <td>0</td>\n",
       "      <td>0</td>\n",
       "      <td>أهنئ الدكتور أحمد جمال الدين، القيادي بحزب مصر...</td>\n",
       "    </tr>\n",
       "    <tr>\n",
       "      <th>2</th>\n",
       "      <td>البرادعي يستقوى بامريكا مرةاخرى و يرسل عصام ال...</td>\n",
       "      <td>NEG</td>\n",
       "      <td>0</td>\n",
       "      <td>1</td>\n",
       "      <td>0</td>\n",
       "      <td>0</td>\n",
       "      <td>البرادعي يستقوى بامريكا مرةاخرى و يرسل عصام ال...</td>\n",
       "    </tr>\n",
       "    <tr>\n",
       "      <th>3</th>\n",
       "      <td>#الحرية_والعدالة | شاهد الآن: #ليلة_الاتحادية ...</td>\n",
       "      <td>OBJ</td>\n",
       "      <td>0</td>\n",
       "      <td>0</td>\n",
       "      <td>1</td>\n",
       "      <td>0</td>\n",
       "      <td>الحريةوالعدالة  شاهد الآن ليلةالاتحادية أول في...</td>\n",
       "    </tr>\n",
       "    <tr>\n",
       "      <th>4</th>\n",
       "      <td>الوالدة لو اقولها بخاطري حشيشة تضحك بس من اقول...</td>\n",
       "      <td>NEUTRAL</td>\n",
       "      <td>0</td>\n",
       "      <td>0</td>\n",
       "      <td>0</td>\n",
       "      <td>1</td>\n",
       "      <td>الوالدة لو اقولها بخاطري حشيشة تضحك بس من اقول...</td>\n",
       "    </tr>\n",
       "  </tbody>\n",
       "</table>\n",
       "</div>"
      ],
      "text/plain": [
       "                                                Text    Label  Pos  Neg  Obj  \\\n",
       "0  بعد استقالة رئيس #المحكمة_الدستورية ننتظر استق...      OBJ    0    0    1   \n",
       "1  أهنئ الدكتور أحمد جمال الدين، القيادي بحزب مصر...      POS    1    0    0   \n",
       "2  البرادعي يستقوى بامريكا مرةاخرى و يرسل عصام ال...      NEG    0    1    0   \n",
       "3  #الحرية_والعدالة | شاهد الآن: #ليلة_الاتحادية ...      OBJ    0    0    1   \n",
       "4  الوالدة لو اقولها بخاطري حشيشة تضحك بس من اقول...  NEUTRAL    0    0    0   \n",
       "\n",
       "   Neutral                                         Text_Clean  \n",
       "0        0  بعد استقالة رئيس المحكمةالدستورية ننتظر استقال...  \n",
       "1        0  أهنئ الدكتور أحمد جمال الدين، القيادي بحزب مصر...  \n",
       "2        0  البرادعي يستقوى بامريكا مرةاخرى و يرسل عصام ال...  \n",
       "3        0  الحريةوالعدالة  شاهد الآن ليلةالاتحادية أول في...  \n",
       "4        1  الوالدة لو اقولها بخاطري حشيشة تضحك بس من اقول...  "
      ]
     },
     "execution_count": 9,
     "metadata": {},
     "output_type": "execute_result"
    }
   ],
   "source": [
    "def remove_punct(text):\n",
    "    text_nopunct = ''\n",
    "    text_nopunct = re.sub('['+string.punctuation+']', '', text)\n",
    "    return text_nopunct\n",
    "\n",
    "tweetsData['Text_Clean'] = tweetsData['Text'].apply(lambda x: remove_punct(x))\n",
    "tweetsData.head()"
   ]
  },
  {
   "cell_type": "code",
   "execution_count": 10,
   "metadata": {},
   "outputs": [
    {
     "name": "stdout",
     "output_type": "stream",
     "text": [
      "[['بعد', 'استقالة', 'رئيس', 'المحكمةالدستورية', 'ننتظر', 'استقالة', 'رئيسالقضاء', 'السودان'], ['أهنئ', 'الدكتور', 'أحمد', 'جمال', 'الدين،', 'القيادي', 'بحزب', 'مصر،', 'بمناسبة', 'صدور', 'أولى', 'روايته'], ['البرادعي', 'يستقوى', 'بامريكا', 'مرةاخرى', 'و', 'يرسل', 'عصام', 'العريان', 'الي', 'واشنطن', 'شئ', 'مقرف'], ['الحريةوالعدالة', 'شاهد', 'الآن', 'ليلةالاتحادية', 'أول', 'فيلم', 'استقصائي', 'يتناول', 'أسرار', 'و', 'كواليس', 'تعرض', 'لأول', 'مرة', 'حول', 'حقيقة'], ['الوالدة', 'لو', 'اقولها', 'بخاطري', 'حشيشة', 'تضحك', 'بس', 'من', 'اقولها', 'ملل', 'الله', 'وكيلك', 'تعطيني', 'محاضرة', 'عن', 'الفسق', 'والفجور', 'بجنوب', 'الشيشان', 'ليه', 'كذا', 'يانبع', 'الحنان'], ['انتخبواالعرص', 'انتخبواالبرص', 'مرسىرئيسى', 'اينرئيسى', 'ö'], ['امير', 'عيد', 'هو', 'اللي', 'فعلا', 'يتقال', 'عليه', 'ستريكر', 'صريح', 'كاريوكي', 'السكةشمال'], ['أحكي', 'لكم', 'قصة', 'حدثت', 'بين', 'شاب', 'و', 'أحد', 'الفتيات', 'كان', 'بينهم', 'حب', 'كبير', 'ولكن', 'حدثت', 'غلطة', 'واحدة؟', 'فهل', 'ستستمر', 'هذه', 'القصة', 'ويتم']]\n"
     ]
    }
   ],
   "source": [
    "# Tokenizing\n",
    "\n",
    "from nltk import word_tokenize, WordNetLemmatizer\n",
    "tokens = [word_tokenize(sen) for sen in tweetsData.Text_Clean]\n",
    "\n",
    "print(tokens[0:8])"
   ]
  },
  {
   "cell_type": "code",
   "execution_count": 11,
   "metadata": {},
   "outputs": [
    {
     "data": {
      "text/html": [
       "<div>\n",
       "<style scoped>\n",
       "    .dataframe tbody tr th:only-of-type {\n",
       "        vertical-align: middle;\n",
       "    }\n",
       "\n",
       "    .dataframe tbody tr th {\n",
       "        vertical-align: top;\n",
       "    }\n",
       "\n",
       "    .dataframe thead th {\n",
       "        text-align: right;\n",
       "    }\n",
       "</style>\n",
       "<table border=\"1\" class=\"dataframe\">\n",
       "  <thead>\n",
       "    <tr style=\"text-align: right;\">\n",
       "      <th></th>\n",
       "      <th>Text_Final</th>\n",
       "      <th>tokens</th>\n",
       "      <th>Label</th>\n",
       "      <th>Pos</th>\n",
       "      <th>Neg</th>\n",
       "      <th>Obj</th>\n",
       "      <th>Neutral</th>\n",
       "    </tr>\n",
       "  </thead>\n",
       "  <tbody>\n",
       "    <tr>\n",
       "      <th>0</th>\n",
       "      <td>استقالة رئيس المحكمةالدستورية ننتظر استقالة رئ...</td>\n",
       "      <td>[استقالة, رئيس, المحكمةالدستورية, ننتظر, استقا...</td>\n",
       "      <td>OBJ</td>\n",
       "      <td>0</td>\n",
       "      <td>0</td>\n",
       "      <td>1</td>\n",
       "      <td>0</td>\n",
       "    </tr>\n",
       "    <tr>\n",
       "      <th>1</th>\n",
       "      <td>أهنئ الدكتور أحمد جمال الدين، القيادي بحزب مصر...</td>\n",
       "      <td>[أهنئ, الدكتور, أحمد, جمال, الدين،, القيادي, ب...</td>\n",
       "      <td>POS</td>\n",
       "      <td>1</td>\n",
       "      <td>0</td>\n",
       "      <td>0</td>\n",
       "      <td>0</td>\n",
       "    </tr>\n",
       "    <tr>\n",
       "      <th>2</th>\n",
       "      <td>البرادعي يستقوى بامريكا مرةاخرى يرسل عصام العر...</td>\n",
       "      <td>[البرادعي, يستقوى, بامريكا, مرةاخرى, يرسل, عصا...</td>\n",
       "      <td>NEG</td>\n",
       "      <td>0</td>\n",
       "      <td>1</td>\n",
       "      <td>0</td>\n",
       "      <td>0</td>\n",
       "    </tr>\n",
       "    <tr>\n",
       "      <th>3</th>\n",
       "      <td>الحريةوالعدالة شاهد ليلةالاتحادية فيلم استقصائ...</td>\n",
       "      <td>[الحريةوالعدالة, شاهد, ليلةالاتحادية, فيلم, اس...</td>\n",
       "      <td>OBJ</td>\n",
       "      <td>0</td>\n",
       "      <td>0</td>\n",
       "      <td>1</td>\n",
       "      <td>0</td>\n",
       "    </tr>\n",
       "    <tr>\n",
       "      <th>4</th>\n",
       "      <td>الوالدة اقولها بخاطري حشيشة تضحك اقولها ملل ال...</td>\n",
       "      <td>[الوالدة, اقولها, بخاطري, حشيشة, تضحك, اقولها,...</td>\n",
       "      <td>NEUTRAL</td>\n",
       "      <td>0</td>\n",
       "      <td>0</td>\n",
       "      <td>0</td>\n",
       "      <td>1</td>\n",
       "    </tr>\n",
       "  </tbody>\n",
       "</table>\n",
       "</div>"
      ],
      "text/plain": [
       "                                          Text_Final  \\\n",
       "0  استقالة رئيس المحكمةالدستورية ننتظر استقالة رئ...   \n",
       "1  أهنئ الدكتور أحمد جمال الدين، القيادي بحزب مصر...   \n",
       "2  البرادعي يستقوى بامريكا مرةاخرى يرسل عصام العر...   \n",
       "3  الحريةوالعدالة شاهد ليلةالاتحادية فيلم استقصائ...   \n",
       "4  الوالدة اقولها بخاطري حشيشة تضحك اقولها ملل ال...   \n",
       "\n",
       "                                              tokens    Label  Pos  Neg  Obj  \\\n",
       "0  [استقالة, رئيس, المحكمةالدستورية, ننتظر, استقا...      OBJ    0    0    1   \n",
       "1  [أهنئ, الدكتور, أحمد, جمال, الدين،, القيادي, ب...      POS    1    0    0   \n",
       "2  [البرادعي, يستقوى, بامريكا, مرةاخرى, يرسل, عصا...      NEG    0    1    0   \n",
       "3  [الحريةوالعدالة, شاهد, ليلةالاتحادية, فيلم, اس...      OBJ    0    0    1   \n",
       "4  [الوالدة, اقولها, بخاطري, حشيشة, تضحك, اقولها,...  NEUTRAL    0    0    0   \n",
       "\n",
       "   Neutral  \n",
       "0        0  \n",
       "1        0  \n",
       "2        0  \n",
       "3        0  \n",
       "4        1  "
      ]
     },
     "execution_count": 11,
     "metadata": {},
     "output_type": "execute_result"
    }
   ],
   "source": [
    "#Arabic Stopwords removal\n",
    "\n",
    "from nltk.corpus import stopwords\n",
    "stoplist = stopwords.words('arabic')\n",
    "\n",
    "def remove_stop_words(tokens):\n",
    "    return [word for word in tokens if word not in stoplist]\n",
    "\n",
    "filtered_words = [remove_stop_words(sen) for sen in tokens] \n",
    "result = [' '.join(sen) for sen in filtered_words]\n",
    "\n",
    "tweetsData['Text_Final'] = result\n",
    "tweetsData['tokens'] = filtered_words\n",
    "\n",
    "#Leave only the needed data (remove the rest)\n",
    "tweetsData = tweetsData[['Text_Final', 'tokens', 'Label', 'Pos', 'Neg', 'Obj', 'Neutral']]\n",
    "\n",
    "#Is it really removed? let's see\n",
    "tweetsData[:5]"
   ]
  },
  {
   "cell_type": "code",
   "execution_count": 12,
   "metadata": {},
   "outputs": [
    {
     "name": "stdout",
     "output_type": "stream",
     "text": [
      "0    [استقالة, رئيس, المحكمةالدستورية, ننتظر, استقا...\n",
      "1    [أهنئ, الدكتور, أحمد, جمال, الدين،, القيادي, ب...\n",
      "2    [البرادعي, يستقوى, بامريكا, مرةاخرى, يرسل, عصا...\n",
      "3    [الحريةوالعدالة, شاهد, ليلةالاتحادية, فيلم, اس...\n",
      "4    [الوالدة, اقولها, بخاطري, حشيشة, تضحك, اقولها,...\n",
      "5    [انتخبواالعرص, انتخبواالبرص, مرسىرئيسى, اينرئي...\n",
      "6    [امير, عيد, اللي, فعلا, يتقال, ستريكر, صريح, ك...\n",
      "7    [أحكي, قصة, حدثت, شاب, الفتيات, بينهم, حب, كبي...\n",
      "Name: tokens, dtype: object\n"
     ]
    }
   ],
   "source": [
    "# Check the removed stopwords from tokens too\n",
    "print(tweetsData.tokens[0:8])"
   ]
  },
  {
   "cell_type": "markdown",
   "metadata": {},
   "source": [
    "## Splitting Data into Train and Test"
   ]
  },
  {
   "cell_type": "code",
   "execution_count": 13,
   "metadata": {},
   "outputs": [],
   "source": [
    "data_train, data_test = train_test_split(tweetsData, test_size=0.10, random_state=42)"
   ]
  },
  {
   "cell_type": "code",
   "execution_count": 14,
   "metadata": {},
   "outputs": [
    {
     "name": "stdout",
     "output_type": "stream",
     "text": [
      "104183 words total, with a vocabulary size of 36438\n",
      "Max sentence length is 825\n"
     ]
    }
   ],
   "source": [
    "#Calculating the data size for training\n",
    "all_training_words = [word for tokens in data_train[\"tokens\"] for word in tokens]\n",
    "training_sentence_lengths = [len(tokens) for tokens in data_train[\"tokens\"]]\n",
    "#What's the size of the vocabulary for train? \n",
    "TRAINING_VOCAB = sorted(list(set(all_training_words)))\n",
    "\n",
    "#Verbose info about our split datasets train\n",
    "print(\"%s words total, with a vocabulary size of %s\" % (len(all_training_words), len(TRAINING_VOCAB)))\n",
    "print(\"Max sentence length is %s\" % max(training_sentence_lengths))"
   ]
  },
  {
   "cell_type": "code",
   "execution_count": 15,
   "metadata": {},
   "outputs": [
    {
     "name": "stdout",
     "output_type": "stream",
     "text": [
      "11436 words total, with a vocabulary size of 7228\n",
      "Max sentence length is 217\n"
     ]
    }
   ],
   "source": [
    "#Calculating the data size for testing\n",
    "all_test_words = [word for tokens in data_test[\"tokens\"] for word in tokens]\n",
    "test_sentence_lengths = [len(tokens) for tokens in data_test[\"tokens\"]]\n",
    "#Again! What's the size of the vocabulary for test? \n",
    "TEST_VOCAB = sorted(list(set(all_test_words)))\n",
    "\n",
    "#Verbose info about our split datasets test\n",
    "print(\"%s words total, with a vocabulary size of %s\" % (len(all_test_words), len(TEST_VOCAB)))\n",
    "print(\"Max sentence length is %s\" % max(test_sentence_lengths))"
   ]
  },
  {
   "cell_type": "markdown",
   "metadata": {},
   "source": [
    "## Use Google News Word2Vec Model to create embeddings and have better results\n",
    "\n",
    "  The idea behind this is using the word2vec model to create embeddings for each word in the dataset. This will help us to have better results when we try to predict the sentiment of a tweet. "
   ]
  },
  {
   "cell_type": "code",
   "execution_count": 18,
   "metadata": {},
   "outputs": [
    {
     "name": "stdout",
     "output_type": "stream",
     "text": [
      "./GoogleNews-vectors-negative300.bin\n"
     ]
    }
   ],
   "source": [
    "#Load google news bin\n",
    "print(GOOGLE_NEW_BIN_PATH)\n",
    "word2vec = models.KeyedVectors.load_word2vec_format(\"./GoogleNews-vectors-negative300.bin\", binary=True)"
   ]
  },
  {
   "cell_type": "code",
   "execution_count": 19,
   "metadata": {},
   "outputs": [],
   "source": [
    "# Functions for manipulating and getting the embeddings \n",
    "def get_average_word2vec(tokens_list, vector, generate_missing=False, k=300):\n",
    "    if len(tokens_list)<1:\n",
    "        return np.zeros(k)\n",
    "    if generate_missing:\n",
    "        vectorized = [vector[word] if word in vector else np.random.rand(k) for word in tokens_list]\n",
    "    else:\n",
    "        vectorized = [vector[word] if word in vector else np.zeros(k) for word in tokens_list]\n",
    "    length = len(vectorized)\n",
    "    summed = np.sum(vectorized, axis=0)\n",
    "    averaged = np.divide(summed, length)\n",
    "    return averaged\n",
    "\n",
    "def get_word2vec_embeddings(vectors, clean_comments, generate_missing=False):\n",
    "    embeddings = clean_comments['tokens'].apply(lambda x: get_average_word2vec(x, vectors, \n",
    "                                                                                generate_missing=generate_missing))\n",
    "    return list(embeddings)"
   ]
  },
  {
   "cell_type": "markdown",
   "metadata": {},
   "source": [
    "## Getting the actuall embeddings to the training dataset"
   ]
  },
  {
   "cell_type": "code",
   "execution_count": 20,
   "metadata": {},
   "outputs": [],
   "source": [
    "training_embeddings = get_word2vec_embeddings(word2vec, data_train, generate_missing=True)\n",
    "\n",
    "MAX_SEQUENCE_LENGTH = 50\n",
    "EMBEDDING_DIM = 300"
   ]
  },
  {
   "cell_type": "markdown",
   "metadata": {},
   "source": [
    "## Next step we are going to Pad sequences and toknize them"
   ]
  },
  {
   "cell_type": "code",
   "execution_count": 21,
   "metadata": {},
   "outputs": [
    {
     "name": "stdout",
     "output_type": "stream",
     "text": [
      "Found 36434 unique tokens.\n"
     ]
    }
   ],
   "source": [
    "# Using the Tokenizer to convert words to integers\n",
    "tokenizer = Tokenizer(num_words=len(TRAINING_VOCAB), lower=True, char_level=False)\n",
    "tokenizer.fit_on_texts(data_train[\"Text_Final\"].tolist())\n",
    "#Finally extract the sequences from the generated tokens of the training data\n",
    "training_sequences = tokenizer.texts_to_sequences(data_train[\"Text_Final\"].tolist())\n",
    "\n",
    "train_word_index = tokenizer.word_index\n",
    "print('Found %s unique tokens.' % len(train_word_index))"
   ]
  },
  {
   "cell_type": "code",
   "execution_count": 22,
   "metadata": {},
   "outputs": [],
   "source": [
    "# Extract the training data as padded sequences\n",
    "train_cnn_data = pad_sequences(training_sequences, maxlen=MAX_SEQUENCE_LENGTH)"
   ]
  },
  {
   "cell_type": "code",
   "execution_count": 23,
   "metadata": {},
   "outputs": [
    {
     "name": "stdout",
     "output_type": "stream",
     "text": [
      "(36435, 300)\n"
     ]
    }
   ],
   "source": [
    "# Get training data embedding weihgts\n",
    "train_embedding_weights = np.zeros((len(train_word_index)+1, EMBEDDING_DIM))\n",
    "for word,index in train_word_index.items():\n",
    "    train_embedding_weights[index,:] = word2vec[word] if word in word2vec else np.random.rand(EMBEDDING_DIM)\n",
    "\n",
    "#How does the shape look like?\n",
    "print(train_embedding_weights.shape)"
   ]
  },
  {
   "cell_type": "code",
   "execution_count": 24,
   "metadata": {},
   "outputs": [
    {
     "data": {
      "text/plain": [
       "48500"
      ]
     },
     "execution_count": 24,
     "metadata": {},
     "output_type": "execute_result"
    }
   ],
   "source": [
    "#Let's do the same for the test data\n",
    "test_sequences = tokenizer.texts_to_sequences(data_test[\"Text_Final\"].tolist())\n",
    "test_cnn_data = pad_sequences(test_sequences, maxlen=MAX_SEQUENCE_LENGTH)\n",
    "test_cnn_data.size\n"
   ]
  },
  {
   "cell_type": "markdown",
   "metadata": {},
   "source": [
    "# Using RNN-LSTM"
   ]
  },
  {
   "cell_type": "code",
   "execution_count": 25,
   "metadata": {},
   "outputs": [],
   "source": [
    "label_names = ['Pos', 'Neg', 'Obj', 'Neutral']\n",
    "\n",
    "y_train = data_train[label_names].values\n",
    "\n",
    "x_train = train_cnn_data\n",
    "y_tr = y_train"
   ]
  },
  {
   "cell_type": "markdown",
   "metadata": {},
   "source": [
    "## Definning Our CNN-LSTM Model"
   ]
  },
  {
   "cell_type": "code",
   "execution_count": 26,
   "metadata": {},
   "outputs": [],
   "source": [
    "# The reason we did a function is we may want to use it later without replicating the same code\n",
    "# The function will create all the model layers and return the model at the end\n",
    "def recurrent_nn(embeddings, max_sequence_length, num_words, embedding_dim, labels_index):\n",
    "    \n",
    "    embedding_layer = Embedding(num_words,\n",
    "                            embedding_dim,\n",
    "                            weights=[embeddings],\n",
    "                            input_length=max_sequence_length,\n",
    "                            trainable=False)\n",
    "    \n",
    "    sequence_input = Input(shape=(max_sequence_length,), dtype='int32')\n",
    "    embedded_sequences = embedding_layer(sequence_input)\n",
    "\n",
    "#     lstm = LSTM(256, dropout=0.2, recurrent_dropout=0.2, return_sequences=True)(embedded_sequences)\n",
    "    lstm = LSTM(256)(embedded_sequences)\n",
    "    \n",
    "    x = Dense(128, activation='relu')(lstm)\n",
    "    x = Dropout(0.2)(x)\n",
    "    preds = Dense(labels_index, activation='sigmoid')(x)\n",
    "\n",
    "    model = Model(sequence_input, preds)\n",
    "    model.compile(loss='binary_crossentropy',\n",
    "                  optimizer='adam',\n",
    "                  metrics=['acc'])\n",
    "    model.summary()\n",
    "    return model"
   ]
  },
  {
   "cell_type": "code",
   "execution_count": 27,
   "metadata": {},
   "outputs": [
    {
     "name": "stderr",
     "output_type": "stream",
     "text": [
      "2021-12-10 23:47:50.727869: W tensorflow/stream_executor/platform/default/dso_loader.cc:64] Could not load dynamic library 'libcuda.so.1'; dlerror: libcuda.so.1: cannot open shared object file: No such file or directory\n",
      "2021-12-10 23:47:50.727909: W tensorflow/stream_executor/cuda/cuda_driver.cc:269] failed call to cuInit: UNKNOWN ERROR (303)\n",
      "2021-12-10 23:47:50.727939: I tensorflow/stream_executor/cuda/cuda_diagnostics.cc:156] kernel driver does not appear to be running on this host (ispenws-ubuntu): /proc/driver/nvidia/version does not exist\n",
      "2021-12-10 23:47:50.728331: I tensorflow/core/platform/cpu_feature_guard.cc:151] This TensorFlow binary is optimized with oneAPI Deep Neural Network Library (oneDNN) to use the following CPU instructions in performance-critical operations:  AVX2 FMA\n",
      "To enable them in other operations, rebuild TensorFlow with the appropriate compiler flags.\n",
      "2021-12-10 23:47:50.828602: W tensorflow/core/framework/cpu_allocator_impl.cc:82] Allocation of 43722000 exceeds 10% of free system memory.\n",
      "2021-12-10 23:47:50.931150: W tensorflow/core/framework/cpu_allocator_impl.cc:82] Allocation of 43722000 exceeds 10% of free system memory.\n",
      "2021-12-10 23:47:50.955638: W tensorflow/core/framework/cpu_allocator_impl.cc:82] Allocation of 43722000 exceeds 10% of free system memory.\n",
      "2021-12-10 23:47:51.169345: W tensorflow/core/framework/cpu_allocator_impl.cc:82] Allocation of 43722000 exceeds 10% of free system memory.\n"
     ]
    },
    {
     "name": "stdout",
     "output_type": "stream",
     "text": [
      "Model: \"model\"\n",
      "_________________________________________________________________\n",
      " Layer (type)                Output Shape              Param #   \n",
      "=================================================================\n",
      " input_1 (InputLayer)        [(None, 50)]              0         \n",
      "                                                                 \n",
      " embedding (Embedding)       (None, 50, 300)           10930500  \n",
      "                                                                 \n",
      " lstm (LSTM)                 (None, 256)               570368    \n",
      "                                                                 \n",
      " dense (Dense)               (None, 128)               32896     \n",
      "                                                                 \n",
      " dropout (Dropout)           (None, 128)               0         \n",
      "                                                                 \n",
      " dense_1 (Dense)             (None, 4)                 516       \n",
      "                                                                 \n",
      "=================================================================\n",
      "Total params: 11,534,280\n",
      "Trainable params: 603,780\n",
      "Non-trainable params: 10,930,500\n",
      "_________________________________________________________________\n"
     ]
    }
   ],
   "source": [
    "# Creating our Model\n",
    "model = recurrent_nn(train_embedding_weights, MAX_SEQUENCE_LENGTH, len(train_word_index)+1, EMBEDDING_DIM, \n",
    "                len(list(label_names)))"
   ]
  },
  {
   "cell_type": "markdown",
   "metadata": {},
   "source": [
    "## Training the RNN-LSTM Model"
   ]
  },
  {
   "cell_type": "code",
   "execution_count": 32,
   "metadata": {},
   "outputs": [
    {
     "name": "stdout",
     "output_type": "stream",
     "text": [
      "Epoch 1/5\n",
      "31/31 [==============================] - 11s 359ms/step - loss: 0.4017 - acc: 0.6687 - val_loss: 0.4101 - val_acc: 0.6621\n",
      "Epoch 2/5\n",
      "31/31 [==============================] - 11s 353ms/step - loss: 0.4001 - acc: 0.6683 - val_loss: 0.3988 - val_acc: 0.6621\n",
      "Epoch 3/5\n",
      "31/31 [==============================] - 12s 380ms/step - loss: 0.3980 - acc: 0.6695 - val_loss: 0.3998 - val_acc: 0.6621\n",
      "Epoch 4/5\n",
      "31/31 [==============================] - 11s 360ms/step - loss: 0.3994 - acc: 0.6687 - val_loss: 0.3949 - val_acc: 0.6621\n",
      "Epoch 5/5\n",
      "31/31 [==============================] - 11s 346ms/step - loss: 0.3950 - acc: 0.6669 - val_loss: 0.3958 - val_acc: 0.6621\n"
     ]
    }
   ],
   "source": [
    "num_epochs = 5\n",
    "batch_size = 256\n",
    "\n",
    "train_hist = model.fit(x_train, y_tr, epochs=num_epochs, validation_split=0.1, shuffle=True, batch_size=batch_size)"
   ]
  },
  {
   "cell_type": "markdown",
   "metadata": {},
   "source": [
    "## Testing the Trained RNN-LSTM Model"
   ]
  },
  {
   "cell_type": "code",
   "execution_count": 29,
   "metadata": {},
   "outputs": [
    {
     "name": "stderr",
     "output_type": "stream",
     "text": [
      "2021-12-10 23:49:25.924130: W tensorflow/core/framework/cpu_allocator_impl.cc:82] Allocation of 58200000 exceeds 10% of free system memory.\n"
     ]
    },
    {
     "name": "stdout",
     "output_type": "stream",
     "text": [
      "1/1 [==============================] - 1s 986ms/step\n"
     ]
    }
   ],
   "source": [
    "predictions = model.predict(test_cnn_data, batch_size=1024, verbose=1)\n",
    "labels = [\"POS\", \"NEG\", \"OBJ\", \"NEUTRAL\"]\n",
    "\n",
    "predictions.shape\n",
    "\n",
    "prediction_labels=[]\n",
    "for p in predictions:\n",
    "    prediction_labels.append(labels[np.argmax(p)])"
   ]
  },
  {
   "cell_type": "markdown",
   "metadata": {},
   "source": [
    "## What's the accuracy of the model when running against the test data"
   ]
  },
  {
   "cell_type": "code",
   "execution_count": 30,
   "metadata": {},
   "outputs": [
    {
     "data": {
      "text/plain": [
       "0.6608247422680412"
      ]
     },
     "execution_count": 30,
     "metadata": {},
     "output_type": "execute_result"
    }
   ],
   "source": [
    "sum(data_test.Label==prediction_labels)/len(prediction_labels)"
   ]
  },
  {
   "cell_type": "markdown",
   "metadata": {},
   "source": [
    "## Ploting the ROC for Accuracy for Train and Test"
   ]
  },
  {
   "cell_type": "code",
   "execution_count": 35,
   "metadata": {},
   "outputs": [
    {
     "name": "stdout",
     "output_type": "stream",
     "text": [
      "dict_keys(['loss', 'acc', 'val_loss', 'val_acc'])\n"
     ]
    },
    {
     "data": {
      "image/png": "[encoded data removed]",
      "text/plain": [
       "<Figure size 432x288 with 1 Axes>"
      ]
     },
     "metadata": {
      "needs_background": "light"
     },
     "output_type": "display_data"
    },
    {
     "data": {
      "image/png": "[encoded data removed]",
      "text/plain": [
       "<Figure size 432x288 with 1 Axes>"
      ]
     },
     "metadata": {
      "needs_background": "light"
     },
     "output_type": "display_data"
    }
   ],
   "source": [
    "import matplotlib.pyplot as plt\n",
    "\n",
    "\n",
    "# list all data in history\n",
    "print(train_hist.history.keys())\n",
    "# summarize history for accuracy\n",
    "plt.plot(train_hist.history['acc'])\n",
    "plt.plot(train_hist.history['val_acc'])\n",
    "plt.title('model accuracy')\n",
    "plt.ylabel('accuracy')\n",
    "plt.xlabel('epoch')\n",
    "plt.legend(['train', 'test'], loc='upper left')\n",
    "plt.show()\n",
    "# summarize history for loss\n",
    "plt.plot(train_hist.history['loss'])\n",
    "plt.plot(train_hist.history['val_loss'])\n",
    "plt.title('model loss')\n",
    "plt.ylabel('loss')\n",
    "plt.xlabel('epoch')\n",
    "plt.legend(['train', 'test'], loc='upper left')\n",
    "plt.show()"
   ]
  }
 ],
 "metadata": {
  "interpreter": {
   "hash": "36fea6fafde9e32ecfef99c8f4cd793092e97a0943c7a468877303b520f9464f"
  },
  "kernelspec": {
   "display_name": "Python 3",
   "language": "python",
   "name": "python3"
  },
  "language_info": {
   "codemirror_mode": {
    "name": "ipython",
    "version": 3
   },
   "file_extension": ".py",
   "mimetype": "text/x-python",
   "name": "python",
   "nbconvert_exporter": "python",
   "pygments_lexer": "ipython3",
   "version": "3.8.8"
  }
 },
 "nbformat": 4,
 "nbformat_minor": 2
}
